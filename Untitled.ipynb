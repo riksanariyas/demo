{
 "cells": [
  {
   "cell_type": "code",
   "execution_count": 3,
   "id": "1f8827db",
   "metadata": {},
   "outputs": [],
   "source": [
    "t  = open(\"test.txt\",\"a\")"
   ]
  },
  {
   "cell_type": "code",
   "execution_count": 4,
   "id": "27fa6a0a",
   "metadata": {},
   "outputs": [
    {
     "data": {
      "text/plain": [
       "14"
      ]
     },
     "execution_count": 4,
     "metadata": {},
     "output_type": "execute_result"
    }
   ],
   "source": [
    "t.write(\"hello everyone\")"
   ]
  },
  {
   "cell_type": "code",
   "execution_count": 9,
   "id": "bae3c0af",
   "metadata": {},
   "outputs": [],
   "source": [
    "t.close()"
   ]
  },
  {
   "cell_type": "code",
   "execution_count": 10,
   "id": "27c2a009",
   "metadata": {},
   "outputs": [
    {
     "data": {
      "text/plain": [
       "'hello everyone'"
      ]
     },
     "execution_count": 10,
     "metadata": {},
     "output_type": "execute_result"
    }
   ],
   "source": [
    "t2  = open(\"test.txt\")\n",
    "t2.read()"
   ]
  },
  {
   "cell_type": "code",
   "execution_count": 11,
   "id": "a8cd33d2",
   "metadata": {},
   "outputs": [],
   "source": [
    "file = open('test3.txt','w')"
   ]
  },
  {
   "cell_type": "code",
   "execution_count": 12,
   "id": "5860ec1f",
   "metadata": {},
   "outputs": [
    {
     "data": {
      "text/plain": [
       "5"
      ]
     },
     "execution_count": 12,
     "metadata": {},
     "output_type": "execute_result"
    }
   ],
   "source": [
    "file.write(\"first\")"
   ]
  },
  {
   "cell_type": "code",
   "execution_count": 13,
   "id": "22b5657a",
   "metadata": {},
   "outputs": [],
   "source": [
    "file.close()"
   ]
  },
  {
   "cell_type": "code",
   "execution_count": 16,
   "id": "fc2bc308",
   "metadata": {},
   "outputs": [
    {
     "data": {
      "text/plain": [
       "'first'"
      ]
     },
     "execution_count": 16,
     "metadata": {},
     "output_type": "execute_result"
    }
   ],
   "source": [
    "file = open('test3.txt')\n",
    "file.read()\n",
    "\n",
    "\n",
    "\n"
   ]
  },
  {
   "cell_type": "code",
   "execution_count": 18,
   "id": "b268e2ef",
   "metadata": {},
   "outputs": [
    {
     "name": "stdout",
     "output_type": "stream",
     "text": [
      "division by zero\n",
      "100.0\n",
      "exception occurred\n"
     ]
    }
   ],
   "source": [
    "try:\n",
    "    x = 100/0\n",
    "    print(x)\n",
    "except Exception as e:\n",
    "    print(e)\n",
    "    x = 100/1\n",
    "    print(x)\n",
    "    print(\"exception occurred\")"
   ]
  },
  {
   "cell_type": "code",
   "execution_count": null,
   "id": "fb8ebda8",
   "metadata": {},
   "outputs": [],
   "source": []
  }
 ],
 "metadata": {
  "kernelspec": {
   "display_name": "Python 3 (ipykernel)",
   "language": "python",
   "name": "python3"
  },
  "language_info": {
   "codemirror_mode": {
    "name": "ipython",
    "version": 3
   },
   "file_extension": ".py",
   "mimetype": "text/x-python",
   "name": "python",
   "nbconvert_exporter": "python",
   "pygments_lexer": "ipython3",
   "version": "3.11.5"
  }
 },
 "nbformat": 4,
 "nbformat_minor": 5
}
