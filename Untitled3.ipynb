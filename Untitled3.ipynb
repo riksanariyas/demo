{
 "cells": [
  {
   "cell_type": "markdown",
   "id": "c218f629",
   "metadata": {},
   "source": [
    "# create a list of sentences ,write a python function that returns a list containing length of each word in all sentences combined."
   ]
  },
  {
   "cell_type": "code",
   "execution_count": 3,
   "id": "a76c4a4e",
   "metadata": {},
   "outputs": [],
   "source": [
    "list5 = [\"hello miya\",\"hey anyone there\"]\n",
    "def word_length(list5):\n",
    "    t = []\n",
    "    for sentence in list5:\n",
    "        for word in sentence.split():\n",
    "            #length = len(word)\n",
    "            t.append(len(word))\n",
    "            #print(word)\n",
    "    return t\n",
    "                \n",
    "            "
   ]
  },
  {
   "cell_type": "code",
   "execution_count": 4,
   "id": "889635fd",
   "metadata": {},
   "outputs": [
    {
     "data": {
      "text/plain": [
       "[5, 4, 3, 6, 5]"
      ]
     },
     "execution_count": 4,
     "metadata": {},
     "output_type": "execute_result"
    }
   ],
   "source": [
    "word_length(list5)"
   ]
  },
  {
   "cell_type": "code",
   "execution_count": 26,
   "id": "7c41b0ee",
   "metadata": {},
   "outputs": [],
   "source": [
    "words = \"hello miya\",\"hey anyone there\"\n",
    "def reverse1(words):\n",
    "    l = []\n",
    "    for i in words:\n",
    "        \n",
    "        rev = i[::-1]\n",
    "        l.append(rev)\n",
    "    print(l) "
   ]
  },
  {
   "cell_type": "code",
   "execution_count": 27,
   "id": "20d9dc98",
   "metadata": {},
   "outputs": [
    {
     "name": "stdout",
     "output_type": "stream",
     "text": [
      "['ayim olleh', 'ereht enoyna yeh']\n"
     ]
    }
   ],
   "source": [
    "reverse1(words)"
   ]
  },
  {
   "cell_type": "code",
   "execution_count": 8,
   "id": "a1308d8e",
   "metadata": {},
   "outputs": [
    {
     "data": {
      "text/plain": [
       "[['hey anyone there', 'hello miya'],\n",
       " ['hey anyone there', 'hello miya'],\n",
       " ['hey anyone there', 'hello miya'],\n",
       " ['hey anyone there', 'hello miya'],\n",
       " ['hey anyone there', 'hello miya']]"
      ]
     },
     "execution_count": 8,
     "metadata": {},
     "output_type": "execute_result"
    }
   ],
   "source": [
    "word_length(list5)"
   ]
  },
  {
   "cell_type": "code",
   "execution_count": 9,
   "id": "78612c41",
   "metadata": {},
   "outputs": [
    {
     "data": {
      "text/plain": [
       "[['hey anyone there', 'hello miya'],\n",
       " ['hey anyone there', 'hello miya'],\n",
       " ['hey anyone there', 'hello miya'],\n",
       " ['hey anyone there', 'hello miya'],\n",
       " ['hey anyone there', 'hello miya']]"
      ]
     },
     "execution_count": 9,
     "metadata": {},
     "output_type": "execute_result"
    }
   ],
   "source": [
    "word_length(list5)"
   ]
  },
  {
   "cell_type": "markdown",
   "id": "08a20f4a",
   "metadata": {},
   "source": [
    "# OOPS"
   ]
  },
  {
   "cell_type": "code",
   "execution_count": 28,
   "id": "d548ba04",
   "metadata": {},
   "outputs": [
    {
     "name": "stdout",
     "output_type": "stream",
     "text": [
      "10\n"
     ]
    }
   ],
   "source": [
    "class myclass:\n",
    "    var1 = 10\n",
    "object = myclass()\n",
    "print(object.var1)\n"
   ]
  },
  {
   "cell_type": "code",
   "execution_count": 29,
   "id": "ea63ccf0",
   "metadata": {},
   "outputs": [
    {
     "ename": "NameError",
     "evalue": "name 'var1' is not defined",
     "output_type": "error",
     "traceback": [
      "\u001b[1;31m---------------------------------------------------------------------------\u001b[0m",
      "\u001b[1;31mNameError\u001b[0m                                 Traceback (most recent call last)",
      "Cell \u001b[1;32mIn[29], line 1\u001b[0m\n\u001b[1;32m----> 1\u001b[0m \u001b[38;5;28mprint\u001b[39m(var1)\n",
      "\u001b[1;31mNameError\u001b[0m: name 'var1' is not defined"
     ]
    }
   ],
   "source": [
    "print(var1)"
   ]
  },
  {
   "cell_type": "code",
   "execution_count": 40,
   "id": "4fd57ef6",
   "metadata": {},
   "outputs": [],
   "source": [
    "class Emp:\n",
    "    def __init__(self,name,empid):\n",
    "        self.name = name \n",
    "        self.empid = empid\n",
    "        \n",
    "    def greet(self):\n",
    "        print(f\"hello, welcome {self.name} and empid {self.empid}\")\n",
    "    "
   ]
  },
  {
   "cell_type": "code",
   "execution_count": 41,
   "id": "1aa21c3b",
   "metadata": {},
   "outputs": [],
   "source": [
    "emp1 = Emp(\"riksana\", 3)"
   ]
  },
  {
   "cell_type": "code",
   "execution_count": 42,
   "id": "c4898aee",
   "metadata": {},
   "outputs": [
    {
     "name": "stdout",
     "output_type": "stream",
     "text": [
      "hello, welcome riksana and empid 3\n"
     ]
    }
   ],
   "source": [
    "emp1.greet()"
   ]
  },
  {
   "cell_type": "code",
   "execution_count": 43,
   "id": "8576008c",
   "metadata": {},
   "outputs": [],
   "source": [
    "emp2 =Emp(\"amal\",6)"
   ]
  },
  {
   "cell_type": "code",
   "execution_count": 44,
   "id": "3bd7bc57",
   "metadata": {},
   "outputs": [
    {
     "name": "stdout",
     "output_type": "stream",
     "text": [
      "hello, welcome amal and empid 6\n"
     ]
    }
   ],
   "source": [
    "emp2.greet()"
   ]
  },
  {
   "cell_type": "code",
   "execution_count": 46,
   "id": "b617bac7",
   "metadata": {},
   "outputs": [
    {
     "name": "stdout",
     "output_type": "stream",
     "text": [
      "name is tiya\n",
      "age is 12\n",
      "gender is female\n"
     ]
    }
   ],
   "source": [
    "class person:\n",
    "    def __init__(self,name,age,gender):\n",
    "        self.name = name\n",
    "        self.age = age\n",
    "        self.gender = gender\n",
    "        \n",
    "    def personalinfo(self):\n",
    "        print(f\"name is {self.name}\")\n",
    "        print(f\"age is {self.age}\")\n",
    "        print(f\"gender is {self.gender}\")\n",
    "        \n",
    "        \n",
    "class student(person):\n",
    "    def __init__(self,name,age,gender,studentid,fees):\n",
    "        person.__init__(self,name,age,gender)\n",
    "        self.studentid = studentid\n",
    "        self.fees = fees\n",
    "        \n",
    "    def studentinfo(self):\n",
    "        print(f\"studentid is {self.studentid}\")\n",
    "        print(f\"fees is {self.fees}\")\n",
    "\n",
    "        \n",
    "student1 = student(\"tiya\",12,\"female\",2036,35000)\n",
    "student1.personalinfo()\n",
    "       \n",
    "        \n",
    "        \n",
    "    \n",
    "        \n",
    "        \n",
    "    \n",
    "    "
   ]
  },
  {
   "cell_type": "code",
   "execution_count": 47,
   "id": "fbb4598d",
   "metadata": {},
   "outputs": [
    {
     "name": "stdout",
     "output_type": "stream",
     "text": [
      "studentid is 2036\n",
      "fees is 35000\n"
     ]
    }
   ],
   "source": [
    "student1.studentinfo()"
   ]
  },
  {
   "cell_type": "code",
   "execution_count": null,
   "id": "6f5cc80a",
   "metadata": {},
   "outputs": [],
   "source": []
  }
 ],
 "metadata": {
  "kernelspec": {
   "display_name": "Python 3 (ipykernel)",
   "language": "python",
   "name": "python3"
  },
  "language_info": {
   "codemirror_mode": {
    "name": "ipython",
    "version": 3
   },
   "file_extension": ".py",
   "mimetype": "text/x-python",
   "name": "python",
   "nbconvert_exporter": "python",
   "pygments_lexer": "ipython3",
   "version": "3.11.5"
  }
 },
 "nbformat": 4,
 "nbformat_minor": 5
}
