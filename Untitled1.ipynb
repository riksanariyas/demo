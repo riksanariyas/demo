{
 "cells": [
  {
   "cell_type": "code",
   "execution_count": null,
   "id": "4ddfa93f",
   "metadata": {},
   "outputs": [],
   "source": [
    "list = [1,2,3,4,2,5,6,2,7,8]\n",
    "   for i in list.remove(if i = 2):\n",
    "     print(list)"
   ]
  },
  {
   "cell_type": "code",
   "execution_count": null,
   "id": "d83bc694",
   "metadata": {
    "scrolled": true
   },
   "outputs": [],
   "source": [
    "list = [1,2,3,4,2,5,6,2,7,8]\n",
    "for i in list :\n",
    "    if (i==2):\n",
    "        list.remove(i)\n",
    "print(list)        "
   ]
  },
  {
   "cell_type": "code",
   "execution_count": null,
   "id": "6d5d0509",
   "metadata": {},
   "outputs": [],
   "source": [
    "dict ={\"alice\":85,\"bob\":92,\"charlie\":78,\"david\":95,\"eva\":88}\n",
    "a=sum(dict.values())/len(dict)"
   ]
  },
  {
   "cell_type": "code",
   "execution_count": null,
   "id": "eed40f53",
   "metadata": {},
   "outputs": [],
   "source": [
    "a"
   ]
  },
  {
   "cell_type": "code",
   "execution_count": 1,
   "id": "7a2433f9",
   "metadata": {},
   "outputs": [],
   "source": [
    "word_list = [\"apple\",\"orange\",\"banana\",\"apple\",\"grape\",\"orange\",\"apple\",\"banana\",\"kiwi\",\"grape\"]\n"
   ]
  },
  {
   "cell_type": "code",
   "execution_count": 6,
   "id": "99bfd815",
   "metadata": {},
   "outputs": [],
   "source": [
    "new_dict = {}\n",
    "for index,element in enumerate(word_list):\n",
    "    \n",
    "    if element in new_dict:\n",
    "        new_dict[element].append(index)\n",
    "    else:\n",
    "        new_dict[element] = [index]\n",
    "        \n",
    "        "
   ]
  },
  {
   "cell_type": "code",
   "execution_count": 7,
   "id": "8e9031a7",
   "metadata": {},
   "outputs": [
    {
     "data": {
      "text/plain": [
       "{'apple': [0, 3, 6],\n",
       " 'orange': [1, 5],\n",
       " 'banana': [2, 7],\n",
       " 'grape': [4, 9],\n",
       " 'kiwi': [8]}"
      ]
     },
     "execution_count": 7,
     "metadata": {},
     "output_type": "execute_result"
    }
   ],
   "source": [
    "new_dict"
   ]
  },
  {
   "cell_type": "markdown",
   "id": "02c4b0ee",
   "metadata": {},
   "source": [
    "#fuctions\n",
    "A functn is a block of organised code written to carry out a specific task\n",
    "fuctns help break our prgm into smaller and modular chunks for better readability\n"
   ]
  },
  {
   "cell_type": "code",
   "execution_count": 9,
   "id": "c1bd011a",
   "metadata": {},
   "outputs": [],
   "source": [
    "def myfuctn():\n",
    "    print(\"hello python lovers\")\n",
    "    "
   ]
  },
  {
   "cell_type": "code",
   "execution_count": 10,
   "id": "0d8b4928",
   "metadata": {},
   "outputs": [
    {
     "name": "stdout",
     "output_type": "stream",
     "text": [
      "hello python lovers\n"
     ]
    }
   ],
   "source": [
    "myfuctn()"
   ]
  },
  {
   "cell_type": "code",
   "execution_count": null,
   "id": "8bbb3a1a",
   "metadata": {},
   "outputs": [],
   "source": []
  }
 ],
 "metadata": {
  "kernelspec": {
   "display_name": "Python 3 (ipykernel)",
   "language": "python",
   "name": "python3"
  },
  "language_info": {
   "codemirror_mode": {
    "name": "ipython",
    "version": 3
   },
   "file_extension": ".py",
   "mimetype": "text/x-python",
   "name": "python",
   "nbconvert_exporter": "python",
   "pygments_lexer": "ipython3",
   "version": "3.11.5"
  }
 },
 "nbformat": 4,
 "nbformat_minor": 5
}
